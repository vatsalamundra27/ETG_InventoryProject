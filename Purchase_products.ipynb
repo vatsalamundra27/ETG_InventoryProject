{
 "cells": [
  {
   "cell_type": "markdown",
   "metadata": {},
   "source": [
    "# Inventory Management System for a grocery shop"
   ]
  },
  {
   "cell_type": "code",
   "execution_count": null,
   "metadata": {},
   "outputs": [],
   "source": [
    "# Fetches the data of products\n",
    "import json\n",
    "\n",
    "fd = open(\"Records.json\",\"r\")\n",
    "txt = fd.read()\n",
    "prodData = json.loads(txt)"
   ]
  },
  {
   "cell_type": "markdown",
   "metadata": {},
   "source": [
    "## Product list"
   ]
  },
  {
   "cell_type": "code",
   "execution_count": null,
   "metadata": {},
   "outputs": [],
   "source": [
    "print(\"Products list with their id's :-\\n\")\n",
    "for prod in prodData:\n",
    "    print(prodData[prod]['brand'],prodData[prod]['product'],\"ID:\",prod,)"
   ]
  },
  {
   "cell_type": "markdown",
   "metadata": {},
   "source": [
    "## Purchase items"
   ]
  },
  {
   "cell_type": "code",
   "execution_count": null,
   "metadata": {},
   "outputs": [],
   "source": [
    "finalCost = 0\n",
    "finalList = {}\n",
    "while(1):\n",
    "    \n",
    "    choice = input(\"Press 1 to buy | 0 to create bill :- \")\n",
    "    \n",
    "    \n",
    "    if(choice == '1'):\n",
    "        ui_prodID = input(\"Enter the id of product you want to purchase : \")\n",
    "\n",
    "        print(\"****************************************************\")\n",
    "        print(\"Product :- \",prodData[ui_prodID]['brand'],prodData[ui_prodID]['product'])\n",
    "        print(\"Product Cost :- \",prodData[ui_prodID]['cost'],\" Rs.\")\n",
    "        print(\"MRP :-\",prodData[ui_prodID]['mrp'],'Rs.')\n",
    "        print(\"Available Quantity :-\",prodData[ui_prodID]['quantity'])\n",
    "        print(\"****************************************************\",end = \"\\n\")\n",
    "\n",
    "        ui_quantity = int(input(\"Enter the quantity you want to purchase : \"))\n",
    "\n",
    "\n",
    "        if(ui_quantity <= prodData[ui_prodID]['quantity'] and prodData[ui_prodID]['quantity']!=0):\n",
    "            prodData[ui_prodID]['quantity'] -= ui_quantity\n",
    "            totalCost = prodData[ui_prodID]['cost']*ui_quantity;\n",
    "\n",
    "            finalCost += totalCost\n",
    "            finalCost = float(f'{finalCost:.2f}')\n",
    "            finalList[prodData[ui_prodID]['brand']+\" \"+prodData[ui_prodID]['product']] = ui_quantity\n",
    "            print(\"Total cost is :\",totalCost,\"Rs.\")\n",
    "            print(\"-------------------------------------------------\")\n",
    "        else:\n",
    "            print(\"Sorry! the available quantity of the product is:\",prodData[ui_prodID]['quantity'])\n",
    "\n",
    "        \n",
    "    elif(choice == '0'):\n",
    "        totalCost = 0\n",
    "        customerName = input(\"Enter your name - \")\n",
    "        phone = input(\"Enter your number - \")\n",
    "        print(\"\\nBILL :-\")\n",
    "        print(\"---------------------------------\")\n",
    "        print(customerName,\"|\",phone)\n",
    "        print(\"Products purachased :-\")\n",
    "        for i in finalList:\n",
    "            print(i,\"-\",finalList[i])\n",
    "        print('Billing Amount :',finalCost,'Rs.')\n",
    "        print(\"---------------------------------\")\n",
    "        break\n",
    "    else:\n",
    "        print(\"Enter a right choice!\")\n"
   ]
  },
  {
   "cell_type": "markdown",
   "metadata": {},
   "source": [
    "## Update Records.json"
   ]
  },
  {
   "cell_type": "code",
   "execution_count": null,
   "metadata": {},
   "outputs": [],
   "source": [
    "records = json.dumps(prodData)\n",
    "fd = open(\"Records.json\",\"w\")\n",
    "fd.write(records)\n",
    "fd.close()"
   ]
  },
  {
   "cell_type": "markdown",
   "metadata": {},
   "source": [
    "## Sales"
   ]
  },
  {
   "cell_type": "code",
   "execution_count": null,
   "metadata": {},
   "outputs": [],
   "source": [
    "#Loads the data from Sales.json\n",
    "fd = open(\"Sales.json\",\"r\")\n",
    "txt1 = fd.read()\n",
    "fd.close()\n",
    "saleList = json.loads(txt1)"
   ]
  },
  {
   "cell_type": "code",
   "execution_count": null,
   "metadata": {},
   "outputs": [],
   "source": [
    "import time\n",
    "\n",
    "date = time.ctime(time.time())\n",
    "saleList[date] = {'cName':customerName,'contact':phone,'sales':finalCost}"
   ]
  },
  {
   "cell_type": "code",
   "execution_count": null,
   "metadata": {},
   "outputs": [],
   "source": [
    "for i in saleList:\n",
    "    print(\"Customer:\",saleList[i]['cName'],\"| Contact:\",saleList[i]['contact'],\"| Sale :\",saleList[i]['sales'],\"Rs. on\",i)"
   ]
  },
  {
   "cell_type": "code",
   "execution_count": null,
   "metadata": {},
   "outputs": [],
   "source": [
    "# Stores the sales to Sales.json\n",
    "sales = json.dumps(saleList)\n",
    "fd = open(\"Sales.json\",\"w\")\n",
    "fd.write(sales)\n",
    "fd.close()"
   ]
  },
  {
   "cell_type": "code",
   "execution_count": null,
   "metadata": {},
   "outputs": [],
   "source": []
  }
 ],
 "metadata": {
  "kernelspec": {
   "display_name": "Python 3",
   "language": "python",
   "name": "python3"
  },
  "language_info": {
   "codemirror_mode": {
    "name": "ipython",
    "version": 3
   },
   "file_extension": ".py",
   "mimetype": "text/x-python",
   "name": "python",
   "nbconvert_exporter": "python",
   "pygments_lexer": "ipython3",
   "version": "3.7.4"
  }
 },
 "nbformat": 4,
 "nbformat_minor": 2
}
